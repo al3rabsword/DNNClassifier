{
 "cells": [
  {
   "cell_type": "code",
   "execution_count": 1,
   "id": "49e96bb3",
   "metadata": {},
   "outputs": [],
   "source": [
    "import tensorflow as tf\n",
    "import pandas as pd"
   ]
  },
  {
   "cell_type": "code",
   "execution_count": 32,
   "id": "c1fd4703",
   "metadata": {
    "scrolled": true
   },
   "outputs": [
    {
     "data": {
      "text/html": [
       "<div>\n",
       "<style scoped>\n",
       "    .dataframe tbody tr th:only-of-type {\n",
       "        vertical-align: middle;\n",
       "    }\n",
       "\n",
       "    .dataframe tbody tr th {\n",
       "        vertical-align: top;\n",
       "    }\n",
       "\n",
       "    .dataframe thead th {\n",
       "        text-align: right;\n",
       "    }\n",
       "</style>\n",
       "<table border=\"1\" class=\"dataframe\">\n",
       "  <thead>\n",
       "    <tr style=\"text-align: right;\">\n",
       "      <th></th>\n",
       "      <th>buying</th>\n",
       "      <th>maint</th>\n",
       "      <th>doors</th>\n",
       "      <th>persons</th>\n",
       "      <th>lug_boot</th>\n",
       "      <th>safety</th>\n",
       "      <th>rating</th>\n",
       "    </tr>\n",
       "  </thead>\n",
       "  <tbody>\n",
       "    <tr>\n",
       "      <th>0</th>\n",
       "      <td>vhigh</td>\n",
       "      <td>vhigh</td>\n",
       "      <td>2</td>\n",
       "      <td>2</td>\n",
       "      <td>small</td>\n",
       "      <td>low</td>\n",
       "      <td>unacc</td>\n",
       "    </tr>\n",
       "    <tr>\n",
       "      <th>1</th>\n",
       "      <td>vhigh</td>\n",
       "      <td>vhigh</td>\n",
       "      <td>2</td>\n",
       "      <td>2</td>\n",
       "      <td>small</td>\n",
       "      <td>med</td>\n",
       "      <td>unacc</td>\n",
       "    </tr>\n",
       "    <tr>\n",
       "      <th>2</th>\n",
       "      <td>vhigh</td>\n",
       "      <td>vhigh</td>\n",
       "      <td>2</td>\n",
       "      <td>2</td>\n",
       "      <td>small</td>\n",
       "      <td>high</td>\n",
       "      <td>unacc</td>\n",
       "    </tr>\n",
       "    <tr>\n",
       "      <th>3</th>\n",
       "      <td>vhigh</td>\n",
       "      <td>vhigh</td>\n",
       "      <td>2</td>\n",
       "      <td>2</td>\n",
       "      <td>med</td>\n",
       "      <td>low</td>\n",
       "      <td>unacc</td>\n",
       "    </tr>\n",
       "    <tr>\n",
       "      <th>4</th>\n",
       "      <td>vhigh</td>\n",
       "      <td>vhigh</td>\n",
       "      <td>2</td>\n",
       "      <td>2</td>\n",
       "      <td>med</td>\n",
       "      <td>med</td>\n",
       "      <td>unacc</td>\n",
       "    </tr>\n",
       "  </tbody>\n",
       "</table>\n",
       "</div>"
      ],
      "text/plain": [
       "  buying  maint doors persons lug_boot safety rating\n",
       "0  vhigh  vhigh     2       2    small    low  unacc\n",
       "1  vhigh  vhigh     2       2    small    med  unacc\n",
       "2  vhigh  vhigh     2       2    small   high  unacc\n",
       "3  vhigh  vhigh     2       2      med    low  unacc\n",
       "4  vhigh  vhigh     2       2      med    med  unacc"
      ]
     },
     "execution_count": 32,
     "metadata": {},
     "output_type": "execute_result"
    }
   ],
   "source": [
    "'''هنا نسترد الملف'''\n",
    "CSV_COLUMN_NAMES = ['buying', 'maint', 'doors', 'persons', 'lug_boot','safety','rating']\n",
    "data = pd.read_csv(\"Car_Data.csv\",names=CSV_COLUMN_NAMES, skiprows=1)\n",
    "data.head()\n"
   ]
  },
  {
   "cell_type": "code",
   "execution_count": 33,
   "id": "f302b95b",
   "metadata": {},
   "outputs": [],
   "source": [
    "\"\"\"هنا نحول كل الكلام الي ارقام لكي يفهمها الموديل \"\"\"\n",
    "from sklearn import preprocessing\n",
    "\n",
    "# Create a label (category) encoder object\n",
    "le = preprocessing.LabelEncoder()\n",
    "# Fit the encoder to the pandas column\n",
    "data['buying'] = le.fit_transform(data['buying'])\n",
    "data['maint'] = le.fit_transform(data['maint'])\n",
    "data['doors'] = le.fit_transform(data['doors'])\n",
    "data['persons'] = le.fit_transform(data['persons'])\n",
    "data['lug_boot'] = le.fit_transform(data['lug_boot'])\n",
    "data['safety'] = le.fit_transform(data['safety'])\n",
    "data['rating'] = le.fit_transform(data['rating'])"
   ]
  },
  {
   "cell_type": "code",
   "execution_count": 10,
   "id": "1d62f340",
   "metadata": {},
   "outputs": [],
   "source": [
    "\"\"\"\n",
    "هنا نفصل البيانات بين \n",
    "x,y  \n",
    "\n",
    "\"\"\"\n",
    "data_y = data.pop('rating')\n"
   ]
  },
  {
   "cell_type": "code",
   "execution_count": null,
   "id": "839584e0",
   "metadata": {},
   "outputs": [],
   "source": [
    "data.head()"
   ]
  },
  {
   "cell_type": "code",
   "execution_count": 12,
   "id": "28cb5a77",
   "metadata": {},
   "outputs": [],
   "source": [
    "'''هنا نفصل بين البيانات الي بيانات للتدريب وبيانات للاختبار'''\n",
    "from sklearn.model_selection import train_test_split\n",
    "X_train, X_test, y_train, y_test = train_test_split(data,data_y,test_size=0.3,random_state=101)"
   ]
  },
  {
   "cell_type": "code",
   "execution_count": 14,
   "id": "0b6dce92",
   "metadata": {},
   "outputs": [],
   "source": [
    "\"\"\"\n",
    "هذه الدالة تحول كل \n",
    "x, y \n",
    "الي قواميس لكي يفهمها موديل \n",
    "DNNClassifier\n",
    "\"\"\"\n",
    "def input_fn(features, labels, training=True, batch_size=256):\n",
    "    \"\"\"An input function for training or evaluating\"\"\"\n",
    "    # Convert the inputs to a Dataset.\n",
    "    dataset = tf.data.Dataset.from_tensor_slices((dict(features), labels))\n",
    "\n",
    "    # Shuffle and repeat if you are in training mode.\n",
    "    if training:\n",
    "        dataset = dataset.shuffle(1000).repeat()\n",
    "    \n",
    "    return dataset.batch(batch_size)\n"
   ]
  },
  {
   "cell_type": "code",
   "execution_count": 23,
   "id": "f1e52270",
   "metadata": {},
   "outputs": [],
   "source": [
    "'''\n",
    "هنا نضع كل الفيتشرز في\n",
    "list\n",
    "'''\n",
    "# Feature columns describe how to use the input.\n",
    "my_feature_columns = []\n",
    "for key in data.keys():\n",
    "    my_feature_columns.append(tf.feature_column.numeric_column(key=key))"
   ]
  },
  {
   "cell_type": "code",
   "execution_count": 24,
   "id": "c36c1a81",
   "metadata": {},
   "outputs": [
    {
     "name": "stdout",
     "output_type": "stream",
     "text": [
      "INFO:tensorflow:Using default config.\n",
      "WARNING:tensorflow:Using temporary folder as model directory: C:\\Users\\islam\\AppData\\Local\\Temp\\tmpio_nt0wn\n",
      "INFO:tensorflow:Using config: {'_model_dir': 'C:\\\\Users\\\\islam\\\\AppData\\\\Local\\\\Temp\\\\tmpio_nt0wn', '_tf_random_seed': None, '_save_summary_steps': 100, '_save_checkpoints_steps': None, '_save_checkpoints_secs': 600, '_session_config': allow_soft_placement: true\n",
      "graph_options {\n",
      "  rewrite_options {\n",
      "    meta_optimizer_iterations: ONE\n",
      "  }\n",
      "}\n",
      ", '_keep_checkpoint_max': 5, '_keep_checkpoint_every_n_hours': 10000, '_log_step_count_steps': 100, '_train_distribute': None, '_device_fn': None, '_protocol': None, '_eval_distribute': None, '_experimental_distribute': None, '_experimental_max_worker_delay_secs': None, '_session_creation_timeout_secs': 7200, '_checkpoint_save_graph_def': True, '_service': None, '_cluster_spec': ClusterSpec({}), '_task_type': 'worker', '_task_id': 0, '_global_id_in_cluster': 0, '_master': '', '_evaluation_master': '', '_is_chief': True, '_num_ps_replicas': 0, '_num_worker_replicas': 1}\n"
     ]
    }
   ],
   "source": [
    "'''\n",
    "هنا نعطي موديل \n",
    "DNNClassifier \n",
    "كل المعطيات الي جهزناها \n",
    "'''\n",
    "# Build a DNN with 2 hidden layers with 30 and 10 hidden nodes each.\n",
    "classifier = tf.estimator.DNNClassifier(\n",
    "    feature_columns=my_feature_columns,\n",
    "    # Two hidden layers of 30 and 10 nodes respectively.\n",
    "    hidden_units=[512, 256, 128],\n",
    "    # The model must choose between 3 classes.\n",
    "    n_classes=4)"
   ]
  },
  {
   "cell_type": "code",
   "execution_count": 25,
   "id": "cae8818e",
   "metadata": {},
   "outputs": [
    {
     "name": "stdout",
     "output_type": "stream",
     "text": [
      "INFO:tensorflow:Calling model_fn.\n",
      "INFO:tensorflow:Done calling model_fn.\n",
      "INFO:tensorflow:Create CheckpointSaverHook.\n",
      "INFO:tensorflow:Graph was finalized.\n",
      "INFO:tensorflow:Running local_init_op.\n",
      "INFO:tensorflow:Done running local_init_op.\n",
      "INFO:tensorflow:Calling checkpoint listeners before saving checkpoint 0...\n",
      "INFO:tensorflow:Saving checkpoints for 0 into C:\\Users\\islam\\AppData\\Local\\Temp\\tmpio_nt0wn\\model.ckpt.\n",
      "INFO:tensorflow:Calling checkpoint listeners after saving checkpoint 0...\n",
      "INFO:tensorflow:loss = 1.4506825, step = 0\n",
      "INFO:tensorflow:global_step/sec: 35.8774\n",
      "INFO:tensorflow:loss = 0.99311376, step = 100 (2.801 sec)\n",
      "INFO:tensorflow:global_step/sec: 35.7867\n",
      "INFO:tensorflow:loss = 0.86523306, step = 200 (2.797 sec)\n",
      "INFO:tensorflow:global_step/sec: 35.6719\n",
      "INFO:tensorflow:loss = 0.8408917, step = 300 (2.800 sec)\n",
      "INFO:tensorflow:global_step/sec: 37.3874\n",
      "INFO:tensorflow:loss = 0.7976711, step = 400 (2.682 sec)\n",
      "INFO:tensorflow:global_step/sec: 34.476\n",
      "INFO:tensorflow:loss = 0.7447855, step = 500 (2.896 sec)\n",
      "INFO:tensorflow:global_step/sec: 36.4024\n",
      "INFO:tensorflow:loss = 0.82960165, step = 600 (2.747 sec)\n",
      "INFO:tensorflow:global_step/sec: 34.6212\n",
      "INFO:tensorflow:loss = 0.73108596, step = 700 (2.888 sec)\n",
      "INFO:tensorflow:global_step/sec: 39.9123\n",
      "INFO:tensorflow:loss = 0.771397, step = 800 (2.506 sec)\n",
      "INFO:tensorflow:global_step/sec: 41.5458\n",
      "INFO:tensorflow:loss = 0.75327384, step = 900 (2.407 sec)\n",
      "INFO:tensorflow:global_step/sec: 41.822\n",
      "INFO:tensorflow:loss = 0.7233158, step = 1000 (2.393 sec)\n",
      "INFO:tensorflow:global_step/sec: 40.5825\n",
      "INFO:tensorflow:loss = 0.77763236, step = 1100 (2.459 sec)\n",
      "INFO:tensorflow:global_step/sec: 37.2089\n",
      "INFO:tensorflow:loss = 0.76793224, step = 1200 (2.676 sec)\n",
      "INFO:tensorflow:global_step/sec: 33.8778\n",
      "INFO:tensorflow:loss = 0.66785675, step = 1300 (2.967 sec)\n",
      "INFO:tensorflow:global_step/sec: 34.6529\n",
      "INFO:tensorflow:loss = 0.77531016, step = 1400 (2.884 sec)\n",
      "INFO:tensorflow:global_step/sec: 42.1195\n",
      "INFO:tensorflow:loss = 0.7663381, step = 1500 (2.377 sec)\n",
      "INFO:tensorflow:global_step/sec: 41.8129\n",
      "INFO:tensorflow:loss = 0.6947421, step = 1600 (2.392 sec)\n",
      "INFO:tensorflow:global_step/sec: 41.8393\n",
      "INFO:tensorflow:loss = 0.77070093, step = 1700 (2.390 sec)\n",
      "INFO:tensorflow:global_step/sec: 42.1195\n",
      "INFO:tensorflow:loss = 0.784961, step = 1800 (2.374 sec)\n",
      "INFO:tensorflow:global_step/sec: 39.5387\n",
      "INFO:tensorflow:loss = 0.692422, step = 1900 (2.529 sec)\n",
      "INFO:tensorflow:global_step/sec: 38.633\n",
      "INFO:tensorflow:loss = 0.7551793, step = 2000 (2.581 sec)\n",
      "INFO:tensorflow:global_step/sec: 40.5105\n",
      "INFO:tensorflow:loss = 0.63982403, step = 2100 (2.473 sec)\n",
      "INFO:tensorflow:global_step/sec: 37.0974\n",
      "INFO:tensorflow:loss = 0.703998, step = 2200 (2.698 sec)\n",
      "INFO:tensorflow:global_step/sec: 42.1366\n",
      "INFO:tensorflow:loss = 0.67818886, step = 2300 (2.373 sec)\n",
      "INFO:tensorflow:global_step/sec: 42.0804\n",
      "INFO:tensorflow:loss = 0.74377036, step = 2400 (2.361 sec)\n",
      "INFO:tensorflow:global_step/sec: 41.7393\n",
      "INFO:tensorflow:loss = 0.6614009, step = 2500 (2.412 sec)\n",
      "INFO:tensorflow:global_step/sec: 32.716\n",
      "INFO:tensorflow:loss = 0.6507485, step = 2600 (3.056 sec)\n",
      "INFO:tensorflow:global_step/sec: 33.4156\n",
      "INFO:tensorflow:loss = 0.65230024, step = 2700 (3.001 sec)\n",
      "INFO:tensorflow:global_step/sec: 35.5741\n",
      "INFO:tensorflow:loss = 0.63917196, step = 2800 (2.810 sec)\n",
      "INFO:tensorflow:global_step/sec: 36.6744\n",
      "INFO:tensorflow:loss = 0.6602336, step = 2900 (2.722 sec)\n",
      "INFO:tensorflow:global_step/sec: 35.6738\n",
      "INFO:tensorflow:loss = 0.7014709, step = 3000 (2.799 sec)\n",
      "INFO:tensorflow:global_step/sec: 41.4113\n",
      "INFO:tensorflow:loss = 0.7168387, step = 3100 (2.429 sec)\n",
      "INFO:tensorflow:global_step/sec: 41.6053\n",
      "INFO:tensorflow:loss = 0.5871866, step = 3200 (2.392 sec)\n",
      "INFO:tensorflow:global_step/sec: 42.211\n",
      "INFO:tensorflow:loss = 0.62262785, step = 3300 (2.377 sec)\n",
      "INFO:tensorflow:global_step/sec: 41.6851\n",
      "INFO:tensorflow:loss = 0.5505555, step = 3400 (2.396 sec)\n",
      "INFO:tensorflow:global_step/sec: 41.9787\n",
      "INFO:tensorflow:loss = 0.63330185, step = 3500 (2.383 sec)\n",
      "INFO:tensorflow:global_step/sec: 42.2\n",
      "INFO:tensorflow:loss = 0.6676375, step = 3600 (2.369 sec)\n",
      "INFO:tensorflow:global_step/sec: 41.9971\n",
      "INFO:tensorflow:loss = 0.628978, step = 3700 (2.375 sec)\n",
      "INFO:tensorflow:global_step/sec: 41.9733\n",
      "INFO:tensorflow:loss = 0.6037899, step = 3800 (2.390 sec)\n",
      "INFO:tensorflow:global_step/sec: 41.6743\n",
      "INFO:tensorflow:loss = 0.563841, step = 3900 (2.401 sec)\n",
      "INFO:tensorflow:global_step/sec: 41.9243\n",
      "INFO:tensorflow:loss = 0.6196203, step = 4000 (2.375 sec)\n",
      "INFO:tensorflow:global_step/sec: 40.9398\n",
      "INFO:tensorflow:loss = 0.60138047, step = 4100 (2.442 sec)\n",
      "INFO:tensorflow:global_step/sec: 42.1257\n",
      "INFO:tensorflow:loss = 0.5989132, step = 4200 (2.383 sec)\n",
      "INFO:tensorflow:global_step/sec: 41.4473\n",
      "INFO:tensorflow:loss = 0.5593957, step = 4300 (2.404 sec)\n",
      "INFO:tensorflow:global_step/sec: 41.9081\n",
      "INFO:tensorflow:loss = 0.54087913, step = 4400 (2.468 sec)\n",
      "INFO:tensorflow:global_step/sec: 40.5219\n",
      "INFO:tensorflow:loss = 0.5276763, step = 4500 (2.396 sec)\n",
      "INFO:tensorflow:global_step/sec: 37.0217\n",
      "INFO:tensorflow:loss = 0.5531354, step = 4600 (2.692 sec)\n",
      "INFO:tensorflow:global_step/sec: 39.365\n",
      "INFO:tensorflow:loss = 0.5498823, step = 4700 (2.553 sec)\n",
      "INFO:tensorflow:global_step/sec: 41.5443\n",
      "INFO:tensorflow:loss = 0.553474, step = 4800 (2.393 sec)\n",
      "INFO:tensorflow:global_step/sec: 40.5514\n",
      "INFO:tensorflow:loss = 0.602369, step = 4900 (2.466 sec)\n",
      "INFO:tensorflow:Calling checkpoint listeners before saving checkpoint 5000...\n",
      "INFO:tensorflow:Saving checkpoints for 5000 into C:\\Users\\islam\\AppData\\Local\\Temp\\tmpio_nt0wn\\model.ckpt.\n",
      "INFO:tensorflow:Calling checkpoint listeners after saving checkpoint 5000...\n",
      "INFO:tensorflow:Loss for final step: 0.5712775.\n"
     ]
    },
    {
     "data": {
      "text/plain": [
       "<tensorflow_estimator.python.estimator.canned.dnn.DNNClassifierV2 at 0x24a1427c4f0>"
      ]
     },
     "execution_count": 25,
     "metadata": {},
     "output_type": "execute_result"
    }
   ],
   "source": [
    "\"\"\"هنا ندرب الموديل\"\"\"\n",
    "# Train the Model.\n",
    "classifier.train(\n",
    "    input_fn=lambda: input_fn(X_train, y_train, training=True),\n",
    "    steps=5000)"
   ]
  },
  {
   "cell_type": "code",
   "execution_count": 26,
   "id": "c0bedc6b",
   "metadata": {},
   "outputs": [
    {
     "name": "stdout",
     "output_type": "stream",
     "text": [
      "INFO:tensorflow:Calling model_fn.\n",
      "INFO:tensorflow:Done calling model_fn.\n",
      "INFO:tensorflow:Starting evaluation at 2022-11-02T11:42:48\n",
      "INFO:tensorflow:Graph was finalized.\n",
      "INFO:tensorflow:Restoring parameters from C:\\Users\\islam\\AppData\\Local\\Temp\\tmpio_nt0wn\\model.ckpt-5000\n",
      "INFO:tensorflow:Running local_init_op.\n",
      "INFO:tensorflow:Done running local_init_op.\n",
      "INFO:tensorflow:Inference Time : 4.46020s\n",
      "INFO:tensorflow:Finished evaluation at 2022-11-02-11:42:53\n",
      "INFO:tensorflow:Saving dict for global step 5000: accuracy = 0.7919075, average_loss = 0.5384158, global_step = 5000, loss = 0.42215455\n",
      "INFO:tensorflow:Saving 'checkpoint_path' summary for global step 5000: C:\\Users\\islam\\AppData\\Local\\Temp\\tmpio_nt0wn\\model.ckpt-5000\n",
      "\n",
      "Test set accuracy: 0.792\n",
      "\n"
     ]
    }
   ],
   "source": [
    "\"\"\"هنا يحسب نسبة دقة البيانات في بيانات الاختبار\"\"\"\n",
    "eval_result = classifier.evaluate(\n",
    "    input_fn=lambda: input_fn(X_test, y_test, training=False))\n",
    "\n",
    "print('\\nTest set accuracy: {accuracy:0.3f}\\n'.format(**eval_result))"
   ]
  },
  {
   "cell_type": "code",
   "execution_count": 27,
   "id": "b463c536",
   "metadata": {},
   "outputs": [],
   "source": [
    "\"\"\"هذه الدالة لكي تحسب القيم المتوقعة\"\"\"\n",
    "# Generate predictions from the model\n",
    "def input_fn(features, batch_size=256):\n",
    "    \"\"\"An input function for prediction.\"\"\"\n",
    "    # Convert the inputs to a Dataset without labels.\n",
    "    return tf.data.Dataset.from_tensor_slices(dict(features)).batch(batch_size)\n",
    "\n",
    "predictions = classifier.predict(\n",
    "    input_fn=lambda: input_fn(X_test))"
   ]
  },
  {
   "cell_type": "markdown",
   "id": "2c74fa85",
   "metadata": {},
   "source": [
    "# المصدر الذي اقتبس منه صناعة هذا الكود\n",
    "https://colab.research.google.com/github/tensorflow/docs/blob/master/site/en/tutorials/estimator/premade.ipynb"
   ]
  }
 ],
 "metadata": {
  "kernelspec": {
   "display_name": "Python 3 (ipykernel)",
   "language": "python",
   "name": "python3"
  },
  "language_info": {
   "codemirror_mode": {
    "name": "ipython",
    "version": 3
   },
   "file_extension": ".py",
   "mimetype": "text/x-python",
   "name": "python",
   "nbconvert_exporter": "python",
   "pygments_lexer": "ipython3",
   "version": "3.9.12"
  }
 },
 "nbformat": 4,
 "nbformat_minor": 5
}
